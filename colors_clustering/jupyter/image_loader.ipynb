{
 "cells": [
  {
   "cell_type": "code",
   "execution_count": 1,
   "metadata": {},
   "outputs": [],
   "source": [
    "import numpy as np\n",
    "import skimage.io"
   ]
  },
  {
   "cell_type": "markdown",
   "metadata": {},
   "source": [
    "# Defining conversion function"
   ]
  },
  {
   "cell_type": "code",
   "execution_count": 2,
   "metadata": {},
   "outputs": [],
   "source": [
    "def image_to_pixelmap(image_path: str) -> np.array:\n",
    "    pixel_map = skimage.io.imread(image_path).copy()\n",
    "    \n",
    "    # Remove alpha component if it's a PNG file.\n",
    "    if image_path[-3::] == \"png\":\n",
    "        width, height, _ = pixel_map.shape\n",
    "        pixel_map.resize((width, height, 3))\n",
    "    return pixel_map"
   ]
  },
  {
   "cell_type": "markdown",
   "metadata": {},
   "source": [
    "# Importing test files"
   ]
  },
  {
   "cell_type": "code",
   "execution_count": 3,
   "metadata": {},
   "outputs": [],
   "source": [
    "jpg_file_path = \"./images/001.jpg\"\n",
    "png_file_path = \"./images/002.png\""
   ]
  },
  {
   "cell_type": "markdown",
   "metadata": {},
   "source": [
    "# Apply conversion function\n",
    "## JPEG files"
   ]
  },
  {
   "cell_type": "code",
   "execution_count": 4,
   "metadata": {},
   "outputs": [
    {
     "name": "stdout",
     "output_type": "stream",
     "text": [
      "(720, 1280, 3)\n",
      "[135 166 161]\n"
     ]
    }
   ],
   "source": [
    "pixel_map = image_to_pixelmap(jpg_file_path)\n",
    "print(pixel_map.shape)\n",
    "print(pixel_map[0][0])"
   ]
  },
  {
   "cell_type": "markdown",
   "metadata": {},
   "source": [
    "# PNG files"
   ]
  },
  {
   "cell_type": "code",
   "execution_count": 5,
   "metadata": {},
   "outputs": [
    {
     "name": "stdout",
     "output_type": "stream",
     "text": [
      "(498, 800, 3)\n",
      "[65 91 89]\n"
     ]
    }
   ],
   "source": [
    "pixel_map = image_to_pixelmap(png_file_path).copy()\n",
    "print(pixel_map.shape)\n",
    "print(pixel_map[0][0])"
   ]
  }
 ],
 "metadata": {
  "kernelspec": {
   "display_name": "Python 3",
   "language": "python",
   "name": "python3"
  },
  "language_info": {
   "codemirror_mode": {
    "name": "ipython",
    "version": 3
   },
   "file_extension": ".py",
   "mimetype": "text/x-python",
   "name": "python",
   "nbconvert_exporter": "python",
   "pygments_lexer": "ipython3",
   "version": "3.8.5"
  }
 },
 "nbformat": 4,
 "nbformat_minor": 1
}
