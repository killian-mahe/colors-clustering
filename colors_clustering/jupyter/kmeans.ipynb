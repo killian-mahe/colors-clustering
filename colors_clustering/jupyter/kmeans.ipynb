{
 "cells": [
  {
   "cell_type": "code",
   "execution_count": 1,
   "metadata": {},
   "outputs": [],
   "source": [
    "import multiprocessing as mp\n",
    "import numpy as np\n",
    "import pandas as pd\n",
    "import skimage.io\n",
    "import random\n",
    "import copy\n",
    "import math"
   ]
  },
  {
   "cell_type": "code",
   "execution_count": 2,
   "metadata": {},
   "outputs": [],
   "source": [
    "def image_to_pixelmap(image_path: str) -> np.array:\n",
    "    pixel_map = skimage.io.imread(image_path).copy()\n",
    "    \n",
    "    # Remove alpha component if it's a PNG file.\n",
    "    if image_path[-3::] == \"png\":\n",
    "        width, height, _ = pixel_map.shape\n",
    "        pixel_map.resize((width, height, 3))\n",
    "    return pixel_map\n",
    "\n",
    "def color_distance(r1, g1, b1, r2, g2, b2):\n",
    "    return math.sqrt(pow(float(r1) - r2, 2) + pow(float(g1) - g2, 2) + pow(float(b1) - b2, 2))\n",
    "\n",
    "jpg_file_path = \"./images/003.jpg\"\n",
    "png_file_path = \"./images/002.png\""
   ]
  },
  {
   "cell_type": "code",
   "execution_count": 3,
   "metadata": {},
   "outputs": [],
   "source": [
    "initial_pixels_map = image_to_pixelmap(jpg_file_path)\n",
    "pixels_map = initial_pixels_map.copy()"
   ]
  },
  {
   "cell_type": "markdown",
   "metadata": {},
   "source": [
    "# Compute clusters value"
   ]
  },
  {
   "cell_type": "code",
   "execution_count": null,
   "metadata": {},
   "outputs": [
    {
     "name": "stdout",
     "output_type": "stream",
     "text": [
      "[array([36, 74, 33], dtype=uint8), array([222,  79,  62], dtype=uint8), array([34, 31, 16], dtype=uint8), array([125,   0, 105], dtype=uint8), array([238,  34,   0], dtype=uint8), array([255, 197, 124], dtype=uint8), array([63, 91, 14], dtype=uint8), array([38, 73,  7], dtype=uint8)]\n"
     ]
    }
   ],
   "source": [
    "def is_in_array(array, subarray):\n",
    "    for i in range(len(array)):\n",
    "        if subarray[0]==array[i][0] and subarray[1]==array[i][1] and subarray[2]==array[i][2]:\n",
    "            return True\n",
    "    return False\n",
    "    \n",
    "\n",
    "width, height, _ = pixels_map.shape\n",
    "\n",
    "n_clusters = 8\n",
    "clusters_points = [[0, 0, 0] for i in range(n_clusters)]\n",
    "new_clusters_points = [[0, 0, 0] for i in range(n_clusters)]\n",
    "nearest_cluster = copy.deepcopy(pixels_map)\n",
    "nearest_cluster.resize((width, height, 1))\n",
    "\n",
    "\n",
    "for i in range(n_clusters):\n",
    "    x = random.randrange(0, width)\n",
    "    y = random.randrange(0, height)\n",
    "    while is_in_array(clusters_points, pixels_map[x][y]):\n",
    "        x = random.randrange(0, width)\n",
    "        y = random.randrange(0, height)\n",
    "    clusters_points[i] = pixels_map[x][y]\n",
    "\n",
    "print(clusters_points)\n",
    "\n",
    "data = []\n",
    "\n",
    "for x in range(width):\n",
    "    for y in range(height):\n",
    "        data.append((x, y, pixels_map[x][y]))\n",
    "    \n",
    "\n",
    "def compute_distances(data):\n",
    "    distances = []\n",
    "    x, y, color = data\n",
    "    for i in range(8):\n",
    "        distances.append(color_distance(*clusters_points[i], *color))\n",
    "    return (x, y, distances.index(min(distances)))\n",
    "    \n",
    "for j in range(2):\n",
    "\n",
    "    with mp.Pool(4) as p:\n",
    "        result = p.map(compute_distances, data)\n",
    "    \n",
    "    print(result[0])\n",
    "    break\n",
    "\n",
    "    unique, counts = np.unique(nearest_cluster, return_counts=True)\n",
    "    print(dict(zip(unique, counts)))\n",
    "    \n",
    "    for x in range(width):\n",
    "        for y in range(height):\n",
    "            cluster_index = nearest_cluster[x][y][0]\n",
    "            new_clusters_points[cluster_index] = np.add(new_clusters_points[cluster_index], pixels_map[x][y])\n",
    "\n",
    "    unique, counts = np.unique(nearest_cluster, return_counts=True)\n",
    "    for index, count in list(zip(unique, counts)):\n",
    "        new_clusters_points[index] = (new_clusters_points[index] / count).round()\n",
    "    \n",
    "    clusters_points = new_clusters_points\n",
    "    new_clusters_points = [[0, 0, 0] for i in range(n_clusters)]"
   ]
  },
  {
   "cell_type": "markdown",
   "metadata": {},
   "source": [
    "# Transform pixel color"
   ]
  },
  {
   "cell_type": "code",
   "execution_count": null,
   "metadata": {},
   "outputs": [],
   "source": [
    "for x in range(width):\n",
    "    for y in range(height):\n",
    "        pixels_map[x][y] = clusters_points[nearest_cluster[x][y][0]]"
   ]
  },
  {
   "cell_type": "code",
   "execution_count": null,
   "metadata": {},
   "outputs": [],
   "source": [
    "print(pixels_map)"
   ]
  },
  {
   "cell_type": "code",
   "execution_count": null,
   "metadata": {},
   "outputs": [],
   "source": [
    "skimage.io.imshow(initial_pixels_map)"
   ]
  },
  {
   "cell_type": "code",
   "execution_count": null,
   "metadata": {},
   "outputs": [],
   "source": [
    "skimage.io.imshow(pixels_map)"
   ]
  },
  {
   "cell_type": "code",
   "execution_count": null,
   "metadata": {},
   "outputs": [],
   "source": []
  }
 ],
 "metadata": {
  "kernelspec": {
   "display_name": "Python 3",
   "language": "python",
   "name": "python3"
  },
  "language_info": {
   "codemirror_mode": {
    "name": "ipython",
    "version": 3
   },
   "file_extension": ".py",
   "mimetype": "text/x-python",
   "name": "python",
   "nbconvert_exporter": "python",
   "pygments_lexer": "ipython3",
   "version": "3.8.5"
  }
 },
 "nbformat": 4,
 "nbformat_minor": 4
}
